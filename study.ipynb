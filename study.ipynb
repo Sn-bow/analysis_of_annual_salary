{
 "cells": [
  {
   "cell_type": "code",
   "execution_count": 2,
   "metadata": {},
   "outputs": [
    {
     "name": "stdout",
     "output_type": "stream",
     "text": [
      "     Undergraduate Major  Starting Median Salary  Mid-Career Median Salary  \\\n",
      "0             Accounting                 46000.0                   77100.0   \n",
      "1  Aerospace Engineering                 57700.0                  101000.0   \n",
      "2            Agriculture                 42600.0                   71900.0   \n",
      "3           Anthropology                 36800.0                   61500.0   \n",
      "4           Architecture                 41600.0                   76800.0   \n",
      "\n",
      "   Mid-Career 10th Percentile Salary  Mid-Career 90th Percentile Salary  \\\n",
      "0                            42200.0                           152000.0   \n",
      "1                            64300.0                           161000.0   \n",
      "2                            36300.0                           150000.0   \n",
      "3                            33800.0                           138000.0   \n",
      "4                            50600.0                           136000.0   \n",
      "\n",
      "      Group  \n",
      "0  Business  \n",
      "1      STEM  \n",
      "2  Business  \n",
      "3      HASS  \n",
      "4  Business  \n"
     ]
    }
   ],
   "source": [
    "import pandas as pd\n",
    "\n",
    "\n",
    "data = pd.read_csv(\"./static/data/salaries_by_college_major.csv\")\n",
    "print(data.head())\n"
   ]
  },
  {
   "cell_type": "code",
   "execution_count": null,
   "metadata": {},
   "outputs": [],
   "source": []
  }
 ],
 "metadata": {
  "kernelspec": {
   "display_name": "university-major",
   "language": "python",
   "name": "python3"
  },
  "language_info": {
   "codemirror_mode": {
    "name": "ipython",
    "version": 3
   },
   "file_extension": ".py",
   "mimetype": "text/x-python",
   "name": "python",
   "nbconvert_exporter": "python",
   "pygments_lexer": "ipython3",
   "version": "3.11.1"
  },
  "orig_nbformat": 4
 },
 "nbformat": 4,
 "nbformat_minor": 2
}
